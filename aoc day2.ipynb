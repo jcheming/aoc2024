{
 "cells": [
  {
   "cell_type": "code",
   "execution_count": 38,
   "metadata": {},
   "outputs": [
    {
     "name": "stdout",
     "output_type": "stream",
     "text": [
      "1.95 ms ± 14 µs per loop (mean ± std. dev. of 7 runs, 1,000 loops each)\n"
     ]
    }
   ],
   "source": [
    "%%timeit\n",
    "def report_reader(path_string):\n",
    "    with open(path_string) as f:\n",
    "        report_strings = f.read().splitlines()\n",
    "        report_lists = []\n",
    "        for report in report_strings:\n",
    "            converted_report = [int(x) for x in report.split(' ')]\n",
    "            report_lists.append(converted_report)\n",
    "    \n",
    "    return report_lists\n",
    "\n",
    "def list_diff_calculator(report):\n",
    "    diffs = []\n",
    "    for i in range(1,len(report)):\n",
    "        diffs.append(report[i]-report[i-1])\n",
    "\n",
    "    return diffs\n",
    "\n",
    "def report_checker(report):\n",
    "    diffs = list_diff_calculator(report)\n",
    "    \n",
    "    for value in diffs:\n",
    "        if abs(value) < 1 or abs(value) > 3:\n",
    "            return 0\n",
    "        \n",
    "    sign = 0\n",
    "    for value in diffs:\n",
    "        if sign == 0:\n",
    "            sign = value\n",
    "        elif (sign < 0 and value > 0) or (sign > 0 and value < 0):\n",
    "            return 0\n",
    "\n",
    "    return 1\n",
    "\n",
    "\n",
    "report_lists = report_reader('data/inputday2.txt')\n",
    "report_status = [report_checker(report) for report in report_lists]\n",
    "sum(report_status)"
   ]
  }
 ],
 "metadata": {
  "language_info": {
   "name": "python"
  }
 },
 "nbformat": 4,
 "nbformat_minor": 2
}
