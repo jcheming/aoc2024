{
 "cells": [
  {
   "cell_type": "code",
   "execution_count": 119,
   "metadata": {},
   "outputs": [
    {
     "name": "stdout",
     "output_type": "stream",
     "text": [
      "3.25 ms ± 114 µs per loop (mean ± std. dev. of 7 runs, 100 loops each)\n"
     ]
    }
   ],
   "source": [
    "%%timeit\n",
    "\n",
    "#part 1\n",
    "import pandas as pd\n",
    "df = pd.read_csv('data/inputday1.txt', sep='\\s+', header=None)\n",
    "df[0] = df[0].sort_values().to_list()\n",
    "df[1] = df[1].sort_values().to_list()\n",
    "df['diff'] = abs(df[1]-df[0])\n",
    "part_1 = df['diff'].sum()\n",
    "\n",
    "#part 2\n",
    "part_2 = df.merge(df,how='inner',left_on=0,right_on=1)['0_x'].sum()\n"
   ]
  },
  {
   "cell_type": "code",
   "execution_count": 116,
   "metadata": {},
   "outputs": [
    {
     "name": "stdout",
     "output_type": "stream",
     "text": [
      "6.29 ms ± 103 µs per loop (mean ± std. dev. of 7 runs, 100 loops each)\n"
     ]
    }
   ],
   "source": [
    "%%timeit\n",
    "with open('data/inputday1.txt') as f:\n",
    "    lines = [x.split() for x in f.read().splitlines()]\n",
    "\n",
    "left = sorted([int(x[0]) for x in lines])\n",
    "right = sorted([int(x[1]) for x in lines])\n",
    "\n",
    "diffs = []\n",
    "for i in range(len(left)):\n",
    "    diffs.append(abs(right[i]-left[i]))\n",
    "sum(diffs)\n",
    "\n",
    "\n",
    "sim_score = 0\n",
    "for element in left:\n",
    "    sim_score += element*right.count(element)"
   ]
  },
  {
   "cell_type": "code",
   "execution_count": null,
   "metadata": {},
   "outputs": [
    {
     "name": "stdout",
     "output_type": "stream",
     "text": [
      "6.3 ms ± 48.5 µs per loop (mean ± std. dev. of 7 runs, 100 loops each)\n"
     ]
    }
   ],
   "source": [
    "%%timeit\n",
    "with open('data/inputday1.txt') as f:\n",
    "    lines = [x.split() for x in f.read().splitlines()]\n",
    "\n",
    "left = sorted([int(x[0]) for x in lines])\n",
    "right = sorted([int(x[1]) for x in lines])\n",
    "\n",
    "diffs = []\n",
    "for i in range(len(left)):\n",
    "    diffs.append(abs(right[i]-left[i]))\n",
    "sum(diffs)\n",
    "\n",
    "sim_score = [x*right.count(x) for x in left]\n",
    "sum(sim_score)"
   ]
  }
 ],
 "metadata": {
  "kernelspec": {
   "display_name": "Python 3",
   "language": "python",
   "name": "python3"
  },
  "language_info": {
   "codemirror_mode": {
    "name": "ipython",
    "version": 3
   },
   "file_extension": ".py",
   "mimetype": "text/x-python",
   "name": "python",
   "nbconvert_exporter": "python",
   "pygments_lexer": "ipython3",
   "version": "3.11.2"
  }
 },
 "nbformat": 4,
 "nbformat_minor": 2
}
