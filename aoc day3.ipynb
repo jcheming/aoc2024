{
 "cells": [
  {
   "cell_type": "code",
   "execution_count": 21,
   "metadata": {},
   "outputs": [
    {
     "data": {
      "text/plain": [
       "167650499"
      ]
     },
     "execution_count": 21,
     "metadata": {},
     "output_type": "execute_result"
    }
   ],
   "source": [
    "%%timeit\n",
    "\n",
    "from re import sub, findall, split\n",
    "from functools import reduce\n",
    "import operator\n",
    "\n",
    "with open('data/inputday3.txt') as f:\n",
    "    raw_string = f.read().replace('\\n',' ')\n",
    "\n",
    "muls = findall('mul\\(\\d{1,3},\\d{1,3}\\)',raw_string)\n",
    "cleaned = [sub('mul\\((\\d{1,3},\\d{1,3})\\)','\\g<1>', x).split(',') for x in muls]\n",
    "total = sum([int(x[0])*int(x[1]) for x in cleaned])\n",
    "\n",
    "# example = '''xmul(2,4)&mul[3,7]!^don't()_mul(5,5)+mul(32,64](mul(11,8)undo()?mul(8,5))'''\n",
    "do_runs = split(\"do\\(\\)\",raw_string)\n",
    "removed_donts = [sub(\"don\\'t\\(\\).*\",'',x) for x in do_runs]\n",
    "\n",
    "muls2 = [findall('mul\\(\\d{1,3},\\d{1,3}\\)',x) for x in removed_donts]\n",
    "muls_flattened = reduce(operator.concat, muls2)\n",
    "cleaned2 = [sub('mul\\((\\d{1,3},\\d{1,3})\\)','\\g<1>', x).split(',') for x in muls_flattened]\n",
    "total2 = sum([int(x[0])*int(x[1]) for x in cleaned2])"
   ]
  }
 ],
 "metadata": {
  "kernelspec": {
   "display_name": "Python 3",
   "language": "python",
   "name": "python3"
  },
  "language_info": {
   "codemirror_mode": {
    "name": "ipython",
    "version": 3
   },
   "file_extension": ".py",
   "mimetype": "text/x-python",
   "name": "python",
   "nbconvert_exporter": "python",
   "pygments_lexer": "ipython3",
   "version": "3.11.2"
  }
 },
 "nbformat": 4,
 "nbformat_minor": 2
}
