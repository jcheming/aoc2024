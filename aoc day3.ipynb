{
 "cells": [
  {
   "cell_type": "code",
   "execution_count": 21,
   "metadata": {},
   "outputs": [
    {
     "data": {
      "text/plain": [
       "167650499"
      ]
     },
     "execution_count": 21,
     "metadata": {},
     "output_type": "execute_result"
    }
   ],
   "source": [
    "# %%timeit\n",
    "\n",
    "from re import sub, findall, split\n",
    "\n",
    "with open('data/inputday3.txt') as f:\n",
    "    raw_string = f.read()\n",
    "\n",
    "muls = findall('mul\\(\\d{1,3},\\d{1,3}\\)',raw_string)\n",
    "cleaned = [sub('mul\\((\\d{1,3},\\d{1,3})\\)','\\g<1>', x).split(',') for x in muls]\n",
    "total = sum([int(x[0])*int(x[1]) for x in cleaned])\n",
    "total"
   ]
  },
  {
   "cell_type": "code",
   "execution_count": 23,
   "metadata": {},
   "outputs": [
    {
     "data": {
      "text/plain": [
       "[\"don't()_mul(5,5)+mul(32,64](mul(11,8)undo()?mul(8,5))\"]"
      ]
     },
     "execution_count": 23,
     "metadata": {},
     "output_type": "execute_result"
    }
   ],
   "source": [
    "example = '''xmul(2,4)&mul[3,7]!^don't()_mul(5,5)+mul(32,64](mul(11,8)undo()?mul(8,5))'''\n",
    "\n",
    "findall(\"do\\(.+\\)|don\\'t\\(.+\\)\",example)\n"
   ]
  }
 ],
 "metadata": {
  "kernelspec": {
   "display_name": "Python 3",
   "language": "python",
   "name": "python3"
  },
  "language_info": {
   "codemirror_mode": {
    "name": "ipython",
    "version": 3
   },
   "file_extension": ".py",
   "mimetype": "text/x-python",
   "name": "python",
   "nbconvert_exporter": "python",
   "pygments_lexer": "ipython3",
   "version": "3.11.2"
  }
 },
 "nbformat": 4,
 "nbformat_minor": 2
}
